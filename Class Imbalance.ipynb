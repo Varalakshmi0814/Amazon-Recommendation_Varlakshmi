{
 "cells": [
  {
   "cell_type": "code",
   "execution_count": 16,
   "metadata": {},
   "outputs": [
    {
     "name": "stdout",
     "output_type": "stream",
     "text": [
      "       reviewerID        asin  reviewerName helpful  \\\n",
      "0  A3SBTW3WS4IQSN  B007WTAJTO           NaN  [0, 0]   \n",
      "1  A18K1ODH1I2MVB  B007WTAJTO          0mie  [0, 0]   \n",
      "2  A2FII3I2MBMUIA  B007WTAJTO           1K3  [0, 0]   \n",
      "3   A3H99DFEG68SR  B007WTAJTO           1m2  [0, 0]   \n",
      "4  A375ZM4U047O79  B007WTAJTO  2&amp;1/2Men  [0, 0]   \n",
      "\n",
      "                                          reviewText  overall  \\\n",
      "0                                         No issues.      4.0   \n",
      "1  Purchased this for my device, it worked as adv...      5.0   \n",
      "2  it works as expected. I should have sprung for...      4.0   \n",
      "3  This think has worked out great.Had a diff. br...      5.0   \n",
      "4  Bought it with Retail Packaging, arrived legit...      5.0   \n",
      "\n",
      "                                  summary  unixReviewTime  reviewTime  \\\n",
      "0                              Four Stars      1406073600  2014-07-23   \n",
      "1                           MOAR SPACE!!!      1382659200  2013-10-25   \n",
      "2               nothing to really say....      1356220800  2012-12-23   \n",
      "3  Great buy at this price!!!  *** UPDATE      1384992000  2013-11-21   \n",
      "4                        best deal around      1373673600  2013-07-13   \n",
      "\n",
      "   day_diff  helpful_yes  total_vote  \n",
      "0       138            0           0  \n",
      "1       409            0           0  \n",
      "2       715            0           0  \n",
      "3       382            0           0  \n",
      "4       513            0           0  \n"
     ]
    }
   ],
   "source": [
    "import pandas as pd\n",
    "\n",
    "# Loading the dataset\n",
    "file_path = 'amazon_review.csv'  \n",
    "data = pd.read_csv(file_path)\n",
    "\n",
    "# Check the first few rows\n",
    "print(data.head())\n"
   ]
  },
  {
   "cell_type": "code",
   "execution_count": 17,
   "metadata": {},
   "outputs": [
    {
     "name": "stdout",
     "output_type": "stream",
     "text": [
      "Index(['reviewerID', 'asin', 'reviewerName', 'helpful', 'reviewText',\n",
      "       'overall', 'summary', 'unixReviewTime', 'reviewTime', 'day_diff',\n",
      "       'helpful_yes', 'total_vote'],\n",
      "      dtype='object')\n"
     ]
    }
   ],
   "source": [
    "# Check all column names to find the correct name for the star ratings column\n",
    "print(data.columns)\n",
    "\n"
   ]
  },
  {
   "cell_type": "code",
   "execution_count": 18,
   "metadata": {},
   "outputs": [
    {
     "name": "stdout",
     "output_type": "stream",
     "text": [
      "5.0    3922\n",
      "4.0     527\n",
      "1.0     244\n",
      "3.0     142\n",
      "2.0      80\n",
      "Name: overall, dtype: int64\n"
     ]
    }
   ],
   "source": [
    "# Assuming the column for star ratings is named 'overall'\n",
    "overall_counts = data['overall'].value_counts()\n",
    "\n",
    "# Print the distribution of star ratings\n",
    "print(overall_counts)\n"
   ]
  },
  {
   "cell_type": "code",
   "execution_count": 19,
   "metadata": {},
   "outputs": [
    {
     "data": {
      "image/png": "[encoded data removed]",
      "text/plain": [
       "<Figure size 432x288 with 1 Axes>"
      ]
     },
     "metadata": {
      "needs_background": "light"
     },
     "output_type": "display_data"
    }
   ],
   "source": [
    "import seaborn as sns\n",
    "import matplotlib.pyplot as plt\n",
    "\n",
    "# Plot the distribution of ratings\n",
    "sns.countplot(x='overall', data=data)\n",
    "plt.title('Distribution of Star Ratings')\n",
    "plt.show()\n"
   ]
  },
  {
   "cell_type": "code",
   "execution_count": 20,
   "metadata": {},
   "outputs": [
    {
     "name": "stdout",
     "output_type": "stream",
     "text": [
      "5.0    993\n",
      "4.0    527\n",
      "1.0    244\n",
      "3.0    142\n",
      "2.0     80\n",
      "Name: overall, dtype: int64\n"
     ]
    }
   ],
   "source": [
    "from sklearn.utils import resample\n",
    "\n",
    "# Separate majority and minority classes\n",
    "majority_class = data[data['overall'] == 5]\n",
    "minority_class = data[data['overall'] != 5]\n",
    "\n",
    "# Downsample majority class\n",
    "majority_class_downsampled = resample(majority_class,\n",
    "                                      replace=False,    # sample without replacement\n",
    "                                      n_samples=len(minority_class),  # match minority class size\n",
    "                                      random_state=42)  # for reproducibility\n",
    "\n",
    "# Combine minority class with downsampled majority class\n",
    "balanced_data = pd.concat([majority_class_downsampled, minority_class])\n",
    "\n",
    "# Check new class distribution\n",
    "print(balanced_data['overall'].value_counts())\n"
   ]
  },
  {
   "cell_type": "code",
   "execution_count": 21,
   "metadata": {},
   "outputs": [
    {
     "name": "stdout",
     "output_type": "stream",
     "text": [
      "5.0    3922\n",
      "4.0    2017\n",
      "1.0     946\n",
      "3.0     620\n",
      "2.0     339\n",
      "Name: overall, dtype: int64\n"
     ]
    }
   ],
   "source": [
    "# Upsample minority class\n",
    "minority_class_upsampled = resample(minority_class,\n",
    "                                    replace=True,     # sample with replacement\n",
    "                                    n_samples=len(majority_class),  # match majority class size\n",
    "                                    random_state=42)  # for reproducibility\n",
    "\n",
    "# Combine majority class with upsampled minority class\n",
    "balanced_data = pd.concat([majority_class, minority_class_upsampled])\n",
    "\n",
    "# Check new class distribution\n",
    "print(balanced_data['overall'].value_counts())\n"
   ]
  },
  {
   "cell_type": "code",
   "execution_count": 22,
   "metadata": {},
   "outputs": [],
   "source": [
    "from sklearn.feature_extraction.text import TfidfVectorizer\n",
    "\n",
    "# Assuming the reviews are in a column called 'reviewText'\n",
    "tfidf = TfidfVectorizer(max_features=5000)  # You can change max_features as needed\n",
    "X = tfidf.fit_transform(balanced_data['summary'])\n",
    "\n",
    "# Assuming 'rating' is your target variable\n",
    "y = balanced_data['overall']\n"
   ]
  },
  {
   "cell_type": "code",
   "execution_count": 23,
   "metadata": {},
   "outputs": [
    {
     "name": "stdout",
     "output_type": "stream",
     "text": [
      "(6275, 1902) (1569, 1902)\n"
     ]
    }
   ],
   "source": [
    "from sklearn.model_selection import train_test_split\n",
    "\n",
    "# Split the dataset into 80% training and 20% testing\n",
    "X_train, X_test, y_train, y_test = train_test_split(X, y, test_size=0.2, random_state=42)\n",
    "\n",
    "# Check the shapes of the splits\n",
    "print(X_train.shape, X_test.shape)\n"
   ]
  },
  {
   "cell_type": "code",
   "execution_count": 24,
   "metadata": {},
   "outputs": [
    {
     "name": "stderr",
     "output_type": "stream",
     "text": [
      "C:\\ProgramData\\Anaconda3\\lib\\site-packages\\sklearn\\linear_model\\_logistic.py:762: ConvergenceWarning: lbfgs failed to converge (status=1):\n",
      "STOP: TOTAL NO. of ITERATIONS REACHED LIMIT.\n",
      "\n",
      "Increase the number of iterations (max_iter) or scale the data as shown in:\n",
      "    https://scikit-learn.org/stable/modules/preprocessing.html\n",
      "Please also refer to the documentation for alternative solver options:\n",
      "    https://scikit-learn.org/stable/modules/linear_model.html#logistic-regression\n",
      "  n_iter_i = _check_optimize_result(\n"
     ]
    },
    {
     "data": {
      "text/plain": [
       "LogisticRegression()"
      ]
     },
     "execution_count": 24,
     "metadata": {},
     "output_type": "execute_result"
    }
   ],
   "source": [
    "from sklearn.linear_model import LogisticRegression\n",
    "\n",
    "# Initialize the model\n",
    "model = LogisticRegression()\n",
    "\n",
    "# Train the model on the training data\n",
    "model.fit(X_train, y_train)\n"
   ]
  },
  {
   "cell_type": "code",
   "execution_count": 14,
   "metadata": {},
   "outputs": [
    {
     "name": "stdout",
     "output_type": "stream",
     "text": [
      "              precision    recall  f1-score   support\n",
      "\n",
      "         1.0       0.84      0.85      0.85       184\n",
      "         2.0       0.88      0.51      0.65        68\n",
      "         3.0       0.89      0.58      0.70       130\n",
      "         4.0       0.68      0.50      0.58       400\n",
      "         5.0       0.73      0.90      0.81       787\n",
      "\n",
      "    accuracy                           0.75      1569\n",
      "   macro avg       0.80      0.67      0.72      1569\n",
      "weighted avg       0.75      0.75      0.74      1569\n",
      "\n",
      "[[157   5   2   4  16]\n",
      " [ 11  35   2   2  18]\n",
      " [ 13   0  75  13  29]\n",
      " [  4   0   1 201 194]\n",
      " [  2   0   4  75 706]]\n"
     ]
    }
   ],
   "source": [
    "from sklearn.metrics import classification_report, confusion_matrix\n",
    "\n",
    "# Predict the labels for the test set\n",
    "y_pred = model.predict(X_test)\n",
    "\n",
    "# Print classification report\n",
    "print(classification_report(y_test, y_pred))\n",
    "\n",
    "# Print confusion matrix\n",
    "print(confusion_matrix(y_test, y_pred))\n"
   ]
  },
  {
   "cell_type": "code",
   "execution_count": null,
   "metadata": {},
   "outputs": [],
   "source": []
  }
 ],
 "metadata": {
  "kernelspec": {
   "display_name": "Python 3",
   "language": "python",
   "name": "python3"
  },
  "language_info": {
   "codemirror_mode": {
    "name": "ipython",
    "version": 3
   },
   "file_extension": ".py",
   "mimetype": "text/x-python",
   "name": "python",
   "nbconvert_exporter": "python",
   "pygments_lexer": "ipython3",
   "version": "3.8.5"
  }
 },
 "nbformat": 4,
 "nbformat_minor": 4
}
